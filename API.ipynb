{
 "cells": [
  {
   "cell_type": "code",
   "execution_count": 117,
   "metadata": {},
   "outputs": [
    {
     "name": "stdout",
     "output_type": "stream",
     "text": [
      "Collecting folium\n",
      "  Downloading https://files.pythonhosted.org/packages/c3/83/e8cb37afc2f016a1cf4caab8d22caf7fe4156c4c15230d8abc9c83547e0c/folium-0.12.1-py2.py3-none-any.whl (94kB)\n",
      "Collecting branca>=0.3.0 (from folium)\n",
      "  Downloading https://files.pythonhosted.org/packages/61/1f/570b0615c452265d57e4114e633231d6cd9b9d275256778a675681e4f711/branca-0.4.2-py3-none-any.whl\n",
      "Requirement already satisfied: numpy in c:\\users\\jittabun\\anaconda3\\lib\\site-packages (from folium) (1.16.5)\n",
      "Requirement already satisfied: jinja2>=2.9 in c:\\users\\jittabun\\anaconda3\\lib\\site-packages (from folium) (2.10.3)\n",
      "Requirement already satisfied: requests in c:\\users\\jittabun\\anaconda3\\lib\\site-packages (from folium) (2.22.0)\n",
      "Requirement already satisfied: MarkupSafe>=0.23 in c:\\users\\jittabun\\anaconda3\\lib\\site-packages (from jinja2>=2.9->folium) (1.1.1)\n",
      "Requirement already satisfied: urllib3!=1.25.0,!=1.25.1,<1.26,>=1.21.1 in c:\\users\\jittabun\\anaconda3\\lib\\site-packages (from requests->folium) (1.24.2)\n",
      "Requirement already satisfied: idna<2.9,>=2.5 in c:\\users\\jittabun\\anaconda3\\lib\\site-packages (from requests->folium) (2.8)\n",
      "Requirement already satisfied: chardet<3.1.0,>=3.0.2 in c:\\users\\jittabun\\anaconda3\\lib\\site-packages (from requests->folium) (3.0.4)\n",
      "Requirement already satisfied: certifi>=2017.4.17 in c:\\users\\jittabun\\anaconda3\\lib\\site-packages (from requests->folium) (2019.9.11)\n",
      "Installing collected packages: branca, folium\n",
      "Successfully installed branca-0.4.2 folium-0.12.1\n"
     ]
    }
   ],
   "source": [
    "import json\n",
    "import requests\n",
    "import pandas as pd\n",
    "import numpy as np\n",
    "import matplotlib.pyplot as plt\n",
    "#!pip install wordcloud\n",
    "#!pip install folium"
   ]
  },
  {
   "cell_type": "code",
   "execution_count": 6,
   "metadata": {},
   "outputs": [],
   "source": [
    "def get_requests(url):\n",
    "    r = requests.get(url)\n",
    "    print(r)\n",
    "    return r"
   ]
  },
  {
   "cell_type": "code",
   "execution_count": 7,
   "metadata": {},
   "outputs": [],
   "source": [
    "\n",
    "def save_name(name , r): \n",
    "    with open(name,'w') as file:\n",
    "        json.dump(r.json(), file)\n",
    "        \n",
    "        "
   ]
  },
  {
   "cell_type": "code",
   "execution_count": 8,
   "metadata": {},
   "outputs": [],
   "source": [
    "def Load_File(name):\n",
    "    with open(name) as file:\n",
    "        data = json.load(file)\n",
    "        return data\n",
    "    "
   ]
  },
  {
   "cell_type": "code",
   "execution_count": 9,
   "metadata": {},
   "outputs": [
    {
     "name": "stdout",
     "output_type": "stream",
     "text": [
      "<Response [200]>\n"
     ]
    }
   ],
   "source": [
    "url = 'https://api.publicapis.org/entries'\n",
    "r1 = get_requests(url)"
   ]
  },
  {
   "cell_type": "code",
   "execution_count": 10,
   "metadata": {},
   "outputs": [],
   "source": [
    "save_name('entries',r1)"
   ]
  },
  {
   "cell_type": "code",
   "execution_count": 11,
   "metadata": {},
   "outputs": [],
   "source": [
    "data1 = Load_File('entries')"
   ]
  },
  {
   "cell_type": "code",
   "execution_count": 12,
   "metadata": {},
   "outputs": [
    {
     "data": {
      "text/html": [
       "<div>\n",
       "<style scoped>\n",
       "    .dataframe tbody tr th:only-of-type {\n",
       "        vertical-align: middle;\n",
       "    }\n",
       "\n",
       "    .dataframe tbody tr th {\n",
       "        vertical-align: top;\n",
       "    }\n",
       "\n",
       "    .dataframe thead th {\n",
       "        text-align: right;\n",
       "    }\n",
       "</style>\n",
       "<table border=\"1\" class=\"dataframe\">\n",
       "  <thead>\n",
       "    <tr style=\"text-align: right;\">\n",
       "      <th></th>\n",
       "      <th>count</th>\n",
       "      <th>entries</th>\n",
       "    </tr>\n",
       "  </thead>\n",
       "  <tbody>\n",
       "    <tr>\n",
       "      <td>0</td>\n",
       "      <td>940</td>\n",
       "      <td>{'API': 'Axolotl', 'Description': 'Collection ...</td>\n",
       "    </tr>\n",
       "    <tr>\n",
       "      <td>1</td>\n",
       "      <td>940</td>\n",
       "      <td>{'API': 'Cat Facts', 'Description': 'Daily cat...</td>\n",
       "    </tr>\n",
       "    <tr>\n",
       "      <td>2</td>\n",
       "      <td>940</td>\n",
       "      <td>{'API': 'Cataas', 'Description': 'Cat as a ser...</td>\n",
       "    </tr>\n",
       "    <tr>\n",
       "      <td>3</td>\n",
       "      <td>940</td>\n",
       "      <td>{'API': 'catAPI', 'Description': 'Random pictu...</td>\n",
       "    </tr>\n",
       "    <tr>\n",
       "      <td>4</td>\n",
       "      <td>940</td>\n",
       "      <td>{'API': 'Cats', 'Description': 'Pictures of ca...</td>\n",
       "    </tr>\n",
       "    <tr>\n",
       "      <td>...</td>\n",
       "      <td>...</td>\n",
       "      <td>...</td>\n",
       "    </tr>\n",
       "    <tr>\n",
       "      <td>935</td>\n",
       "      <td>940</td>\n",
       "      <td>{'API': 'Troposphere', 'Description': 'Global ...</td>\n",
       "    </tr>\n",
       "    <tr>\n",
       "      <td>936</td>\n",
       "      <td>940</td>\n",
       "      <td>{'API': 'Visual Crossing', 'Description': 'Glo...</td>\n",
       "    </tr>\n",
       "    <tr>\n",
       "      <td>937</td>\n",
       "      <td>940</td>\n",
       "      <td>{'API': 'weather-api', 'Description': 'A RESTf...</td>\n",
       "    </tr>\n",
       "    <tr>\n",
       "      <td>938</td>\n",
       "      <td>940</td>\n",
       "      <td>{'API': 'Weatherbit', 'Description': 'Weather'...</td>\n",
       "    </tr>\n",
       "    <tr>\n",
       "      <td>939</td>\n",
       "      <td>940</td>\n",
       "      <td>{'API': 'wttr', 'Description': ':partly_sunny:...</td>\n",
       "    </tr>\n",
       "  </tbody>\n",
       "</table>\n",
       "<p>940 rows × 2 columns</p>\n",
       "</div>"
      ],
      "text/plain": [
       "     count                                            entries\n",
       "0      940  {'API': 'Axolotl', 'Description': 'Collection ...\n",
       "1      940  {'API': 'Cat Facts', 'Description': 'Daily cat...\n",
       "2      940  {'API': 'Cataas', 'Description': 'Cat as a ser...\n",
       "3      940  {'API': 'catAPI', 'Description': 'Random pictu...\n",
       "4      940  {'API': 'Cats', 'Description': 'Pictures of ca...\n",
       "..     ...                                                ...\n",
       "935    940  {'API': 'Troposphere', 'Description': 'Global ...\n",
       "936    940  {'API': 'Visual Crossing', 'Description': 'Glo...\n",
       "937    940  {'API': 'weather-api', 'Description': 'A RESTf...\n",
       "938    940  {'API': 'Weatherbit', 'Description': 'Weather'...\n",
       "939    940  {'API': 'wttr', 'Description': ':partly_sunny:...\n",
       "\n",
       "[940 rows x 2 columns]"
      ]
     },
     "execution_count": 12,
     "metadata": {},
     "output_type": "execute_result"
    }
   ],
   "source": [
    "df1 = pd.DataFrame(data1)\n",
    "df1"
   ]
  },
  {
   "cell_type": "code",
   "execution_count": 13,
   "metadata": {},
   "outputs": [
    {
     "data": {
      "text/html": [
       "<div>\n",
       "<style scoped>\n",
       "    .dataframe tbody tr th:only-of-type {\n",
       "        vertical-align: middle;\n",
       "    }\n",
       "\n",
       "    .dataframe tbody tr th {\n",
       "        vertical-align: top;\n",
       "    }\n",
       "\n",
       "    .dataframe thead th {\n",
       "        text-align: right;\n",
       "    }\n",
       "</style>\n",
       "<table border=\"1\" class=\"dataframe\">\n",
       "  <thead>\n",
       "    <tr style=\"text-align: right;\">\n",
       "      <th></th>\n",
       "      <th>API</th>\n",
       "      <th>Description</th>\n",
       "      <th>Auth</th>\n",
       "      <th>HTTPS</th>\n",
       "      <th>Cors</th>\n",
       "      <th>Link</th>\n",
       "      <th>Category</th>\n",
       "    </tr>\n",
       "  </thead>\n",
       "  <tbody>\n",
       "    <tr>\n",
       "      <td>0</td>\n",
       "      <td>Axolotl</td>\n",
       "      <td>Collection of axolotl pictures and facts</td>\n",
       "      <td></td>\n",
       "      <td>True</td>\n",
       "      <td>unknown</td>\n",
       "      <td>https://theaxolotlapi.netlify.app/</td>\n",
       "      <td>Animals</td>\n",
       "    </tr>\n",
       "    <tr>\n",
       "      <td>1</td>\n",
       "      <td>Cat Facts</td>\n",
       "      <td>Daily cat facts</td>\n",
       "      <td></td>\n",
       "      <td>True</td>\n",
       "      <td>no</td>\n",
       "      <td>https://alexwohlbruck.github.io/cat-facts/</td>\n",
       "      <td>Animals</td>\n",
       "    </tr>\n",
       "    <tr>\n",
       "      <td>2</td>\n",
       "      <td>Cataas</td>\n",
       "      <td>Cat as a service (cats pictures and gifs)</td>\n",
       "      <td></td>\n",
       "      <td>True</td>\n",
       "      <td>unknown</td>\n",
       "      <td>https://cataas.com/</td>\n",
       "      <td>Animals</td>\n",
       "    </tr>\n",
       "    <tr>\n",
       "      <td>3</td>\n",
       "      <td>catAPI</td>\n",
       "      <td>Random pictures of cats</td>\n",
       "      <td></td>\n",
       "      <td>True</td>\n",
       "      <td>yes</td>\n",
       "      <td>https://github.com/ThatCopy/catAPI/wiki/Usage</td>\n",
       "      <td>Animals</td>\n",
       "    </tr>\n",
       "    <tr>\n",
       "      <td>4</td>\n",
       "      <td>Cats</td>\n",
       "      <td>Pictures of cats from Tumblr</td>\n",
       "      <td>apiKey</td>\n",
       "      <td>True</td>\n",
       "      <td>unknown</td>\n",
       "      <td>https://docs.thecatapi.com/</td>\n",
       "      <td>Animals</td>\n",
       "    </tr>\n",
       "    <tr>\n",
       "      <td>...</td>\n",
       "      <td>...</td>\n",
       "      <td>...</td>\n",
       "      <td>...</td>\n",
       "      <td>...</td>\n",
       "      <td>...</td>\n",
       "      <td>...</td>\n",
       "      <td>...</td>\n",
       "    </tr>\n",
       "    <tr>\n",
       "      <td>935</td>\n",
       "      <td>Troposphere</td>\n",
       "      <td>Global weather and climate data</td>\n",
       "      <td>apiKey</td>\n",
       "      <td>True</td>\n",
       "      <td>yes</td>\n",
       "      <td>https://www.troposphere.io/developer</td>\n",
       "      <td>Weather</td>\n",
       "    </tr>\n",
       "    <tr>\n",
       "      <td>936</td>\n",
       "      <td>Visual Crossing</td>\n",
       "      <td>Global historical and weather forecast data</td>\n",
       "      <td>apiKey</td>\n",
       "      <td>True</td>\n",
       "      <td>yes</td>\n",
       "      <td>https://www.visualcrossing.com/weather-api</td>\n",
       "      <td>Weather</td>\n",
       "    </tr>\n",
       "    <tr>\n",
       "      <td>937</td>\n",
       "      <td>weather-api</td>\n",
       "      <td>A RESTful free API to check the weather</td>\n",
       "      <td></td>\n",
       "      <td>True</td>\n",
       "      <td>no</td>\n",
       "      <td>https://github.com/robertoduessmann/weather-api</td>\n",
       "      <td>Weather</td>\n",
       "    </tr>\n",
       "    <tr>\n",
       "      <td>938</td>\n",
       "      <td>Weatherbit</td>\n",
       "      <td>Weather</td>\n",
       "      <td>apiKey</td>\n",
       "      <td>True</td>\n",
       "      <td>unknown</td>\n",
       "      <td>https://www.weatherbit.io/api</td>\n",
       "      <td>Weather</td>\n",
       "    </tr>\n",
       "    <tr>\n",
       "      <td>939</td>\n",
       "      <td>wttr</td>\n",
       "      <td>:partly_sunny: The right way to check the weather</td>\n",
       "      <td></td>\n",
       "      <td>True</td>\n",
       "      <td>unknown</td>\n",
       "      <td>https://github.com/chubin/wttr.in</td>\n",
       "      <td>Weather</td>\n",
       "    </tr>\n",
       "  </tbody>\n",
       "</table>\n",
       "<p>940 rows × 7 columns</p>\n",
       "</div>"
      ],
      "text/plain": [
       "                 API                                        Description  \\\n",
       "0            Axolotl           Collection of axolotl pictures and facts   \n",
       "1          Cat Facts                                    Daily cat facts   \n",
       "2             Cataas          Cat as a service (cats pictures and gifs)   \n",
       "3             catAPI                            Random pictures of cats   \n",
       "4               Cats                       Pictures of cats from Tumblr   \n",
       "..               ...                                                ...   \n",
       "935      Troposphere                    Global weather and climate data   \n",
       "936  Visual Crossing        Global historical and weather forecast data   \n",
       "937      weather-api            A RESTful free API to check the weather   \n",
       "938       Weatherbit                                            Weather   \n",
       "939             wttr  :partly_sunny: The right way to check the weather   \n",
       "\n",
       "       Auth  HTTPS     Cors                                             Link  \\\n",
       "0             True  unknown               https://theaxolotlapi.netlify.app/   \n",
       "1             True       no       https://alexwohlbruck.github.io/cat-facts/   \n",
       "2             True  unknown                              https://cataas.com/   \n",
       "3             True      yes    https://github.com/ThatCopy/catAPI/wiki/Usage   \n",
       "4    apiKey   True  unknown                      https://docs.thecatapi.com/   \n",
       "..      ...    ...      ...                                              ...   \n",
       "935  apiKey   True      yes             https://www.troposphere.io/developer   \n",
       "936  apiKey   True      yes       https://www.visualcrossing.com/weather-api   \n",
       "937           True       no  https://github.com/robertoduessmann/weather-api   \n",
       "938  apiKey   True  unknown                    https://www.weatherbit.io/api   \n",
       "939           True  unknown                https://github.com/chubin/wttr.in   \n",
       "\n",
       "    Category  \n",
       "0    Animals  \n",
       "1    Animals  \n",
       "2    Animals  \n",
       "3    Animals  \n",
       "4    Animals  \n",
       "..       ...  \n",
       "935  Weather  \n",
       "936  Weather  \n",
       "937  Weather  \n",
       "938  Weather  \n",
       "939  Weather  \n",
       "\n",
       "[940 rows x 7 columns]"
      ]
     },
     "execution_count": 13,
     "metadata": {},
     "output_type": "execute_result"
    }
   ],
   "source": [
    "df1 = df1['entries'].apply(pd.Series)\n",
    "df1\n",
    "#df1 = pd.DataFrame(data1['entries'])\n",
    "#apply entries to main"
   ]
  },
  {
   "cell_type": "code",
   "execution_count": 14,
   "metadata": {},
   "outputs": [
    {
     "data": {
      "text/plain": [
       "API            object\n",
       "Description    object\n",
       "Auth           object\n",
       "HTTPS            bool\n",
       "Cors           object\n",
       "Link           object\n",
       "Category       object\n",
       "dtype: object"
      ]
     },
     "execution_count": 14,
     "metadata": {},
     "output_type": "execute_result"
    }
   ],
   "source": [
    "df1.dtypes"
   ]
  },
  {
   "cell_type": "code",
   "execution_count": 15,
   "metadata": {},
   "outputs": [
    {
     "data": {
      "text/plain": [
       "<bound method DataFrame.info of                  API                                        Description  \\\n",
       "0            Axolotl           Collection of axolotl pictures and facts   \n",
       "1          Cat Facts                                    Daily cat facts   \n",
       "2             Cataas          Cat as a service (cats pictures and gifs)   \n",
       "3             catAPI                            Random pictures of cats   \n",
       "4               Cats                       Pictures of cats from Tumblr   \n",
       "..               ...                                                ...   \n",
       "935      Troposphere                    Global weather and climate data   \n",
       "936  Visual Crossing        Global historical and weather forecast data   \n",
       "937      weather-api            A RESTful free API to check the weather   \n",
       "938       Weatherbit                                            Weather   \n",
       "939             wttr  :partly_sunny: The right way to check the weather   \n",
       "\n",
       "       Auth  HTTPS     Cors                                             Link  \\\n",
       "0             True  unknown               https://theaxolotlapi.netlify.app/   \n",
       "1             True       no       https://alexwohlbruck.github.io/cat-facts/   \n",
       "2             True  unknown                              https://cataas.com/   \n",
       "3             True      yes    https://github.com/ThatCopy/catAPI/wiki/Usage   \n",
       "4    apiKey   True  unknown                      https://docs.thecatapi.com/   \n",
       "..      ...    ...      ...                                              ...   \n",
       "935  apiKey   True      yes             https://www.troposphere.io/developer   \n",
       "936  apiKey   True      yes       https://www.visualcrossing.com/weather-api   \n",
       "937           True       no  https://github.com/robertoduessmann/weather-api   \n",
       "938  apiKey   True  unknown                    https://www.weatherbit.io/api   \n",
       "939           True  unknown                https://github.com/chubin/wttr.in   \n",
       "\n",
       "    Category  \n",
       "0    Animals  \n",
       "1    Animals  \n",
       "2    Animals  \n",
       "3    Animals  \n",
       "4    Animals  \n",
       "..       ...  \n",
       "935  Weather  \n",
       "936  Weather  \n",
       "937  Weather  \n",
       "938  Weather  \n",
       "939  Weather  \n",
       "\n",
       "[940 rows x 7 columns]>"
      ]
     },
     "execution_count": 15,
     "metadata": {},
     "output_type": "execute_result"
    }
   ],
   "source": [
    "df1.info"
   ]
  },
  {
   "cell_type": "code",
   "execution_count": 16,
   "metadata": {},
   "outputs": [
    {
     "data": {
      "image/png": "[encoded data removed]",
      "text/plain": [
       "<Figure size 576x576 with 1 Axes>"
      ]
     },
     "metadata": {
      "needs_background": "light"
     },
     "output_type": "display_data"
    }
   ],
   "source": [
    "# Python program to generate WordCloud\n",
    " \n",
    "# importing all necessary modules\n",
    "from wordcloud import WordCloud, STOPWORDS\n",
    "import matplotlib.pyplot as plt\n",
    "import pandas as pd\n",
    "\n",
    "comment_words = ''\n",
    "stopwords = set(STOPWORDS)\n",
    " \n",
    "for val in df1['API']:\n",
    "     \n",
    "    # typecaste each val to string\n",
    "    val = str(val)\n",
    " \n",
    "    # split the value\n",
    "    tokens = val.split()\n",
    "     \n",
    "    # Converts each token into lowercase\n",
    "    for i in range(len(tokens)):\n",
    "        tokens[i] = tokens[i].lower()\n",
    "     \n",
    "    comment_words += \" \".join(tokens)+\" \"\n",
    " \n",
    "wordcloud = WordCloud(width = 800, height = 800,\n",
    "                background_color ='white',\n",
    "                stopwords = stopwords,\n",
    "                min_font_size = 10).generate(comment_words)\n",
    " \n",
    "# plot the WordCloud image                      \n",
    "plt.figure(figsize = (8, 8), facecolor = None)\n",
    "plt.imshow(wordcloud)\n",
    "plt.axis(\"off\")\n",
    "plt.tight_layout(pad = 0)\n",
    " \n",
    "plt.show()\n"
   ]
  },
  {
   "cell_type": "code",
   "execution_count": 17,
   "metadata": {},
   "outputs": [
    {
     "name": "stdout",
     "output_type": "stream",
     "text": [
      "<Response [200]>\n"
     ]
    }
   ],
   "source": [
    "url2 = 'https://api.coindesk.com/v1/bpi/currentprice.json'\n",
    "r2 = get_requests(url2)"
   ]
  },
  {
   "cell_type": "code",
   "execution_count": 18,
   "metadata": {},
   "outputs": [],
   "source": [
    "save_name(\"Coindesk\",r2)"
   ]
  },
  {
   "cell_type": "code",
   "execution_count": 19,
   "metadata": {},
   "outputs": [],
   "source": [
    "data2 = Load_File('Coindesk')"
   ]
  },
  {
   "cell_type": "code",
   "execution_count": 20,
   "metadata": {},
   "outputs": [],
   "source": [
    "df2 = pd.DataFrame(data2)"
   ]
  },
  {
   "cell_type": "code",
   "execution_count": 21,
   "metadata": {},
   "outputs": [
    {
     "data": {
      "text/html": [
       "<div>\n",
       "<style scoped>\n",
       "    .dataframe tbody tr th:only-of-type {\n",
       "        vertical-align: middle;\n",
       "    }\n",
       "\n",
       "    .dataframe tbody tr th {\n",
       "        vertical-align: top;\n",
       "    }\n",
       "\n",
       "    .dataframe thead th {\n",
       "        text-align: right;\n",
       "    }\n",
       "</style>\n",
       "<table border=\"1\" class=\"dataframe\">\n",
       "  <thead>\n",
       "    <tr style=\"text-align: right;\">\n",
       "      <th></th>\n",
       "      <th>time</th>\n",
       "      <th>disclaimer</th>\n",
       "      <th>chartName</th>\n",
       "      <th>bpi</th>\n",
       "    </tr>\n",
       "  </thead>\n",
       "  <tbody>\n",
       "    <tr>\n",
       "      <td>updated</td>\n",
       "      <td>Sep 22, 2021 15:21:00 UTC</td>\n",
       "      <td>This data was produced from the CoinDesk Bitco...</td>\n",
       "      <td>Bitcoin</td>\n",
       "      <td>NaN</td>\n",
       "    </tr>\n",
       "    <tr>\n",
       "      <td>updatedISO</td>\n",
       "      <td>2021-09-22T15:21:00+00:00</td>\n",
       "      <td>This data was produced from the CoinDesk Bitco...</td>\n",
       "      <td>Bitcoin</td>\n",
       "      <td>NaN</td>\n",
       "    </tr>\n",
       "    <tr>\n",
       "      <td>updateduk</td>\n",
       "      <td>Sep 22, 2021 at 16:21 BST</td>\n",
       "      <td>This data was produced from the CoinDesk Bitco...</td>\n",
       "      <td>Bitcoin</td>\n",
       "      <td>NaN</td>\n",
       "    </tr>\n",
       "    <tr>\n",
       "      <td>USD</td>\n",
       "      <td>NaN</td>\n",
       "      <td>This data was produced from the CoinDesk Bitco...</td>\n",
       "      <td>Bitcoin</td>\n",
       "      <td>{'code': 'USD', 'symbol': '&amp;#36;', 'rate': '42...</td>\n",
       "    </tr>\n",
       "    <tr>\n",
       "      <td>GBP</td>\n",
       "      <td>NaN</td>\n",
       "      <td>This data was produced from the CoinDesk Bitco...</td>\n",
       "      <td>Bitcoin</td>\n",
       "      <td>{'code': 'GBP', 'symbol': '&amp;pound;', 'rate': '...</td>\n",
       "    </tr>\n",
       "    <tr>\n",
       "      <td>EUR</td>\n",
       "      <td>NaN</td>\n",
       "      <td>This data was produced from the CoinDesk Bitco...</td>\n",
       "      <td>Bitcoin</td>\n",
       "      <td>{'code': 'EUR', 'symbol': '&amp;euro;', 'rate': '3...</td>\n",
       "    </tr>\n",
       "  </tbody>\n",
       "</table>\n",
       "</div>"
      ],
      "text/plain": [
       "                                 time  \\\n",
       "updated     Sep 22, 2021 15:21:00 UTC   \n",
       "updatedISO  2021-09-22T15:21:00+00:00   \n",
       "updateduk   Sep 22, 2021 at 16:21 BST   \n",
       "USD                               NaN   \n",
       "GBP                               NaN   \n",
       "EUR                               NaN   \n",
       "\n",
       "                                                   disclaimer chartName  \\\n",
       "updated     This data was produced from the CoinDesk Bitco...   Bitcoin   \n",
       "updatedISO  This data was produced from the CoinDesk Bitco...   Bitcoin   \n",
       "updateduk   This data was produced from the CoinDesk Bitco...   Bitcoin   \n",
       "USD         This data was produced from the CoinDesk Bitco...   Bitcoin   \n",
       "GBP         This data was produced from the CoinDesk Bitco...   Bitcoin   \n",
       "EUR         This data was produced from the CoinDesk Bitco...   Bitcoin   \n",
       "\n",
       "                                                          bpi  \n",
       "updated                                                   NaN  \n",
       "updatedISO                                                NaN  \n",
       "updateduk                                                 NaN  \n",
       "USD         {'code': 'USD', 'symbol': '&#36;', 'rate': '42...  \n",
       "GBP         {'code': 'GBP', 'symbol': '&pound;', 'rate': '...  \n",
       "EUR         {'code': 'EUR', 'symbol': '&euro;', 'rate': '3...  "
      ]
     },
     "execution_count": 21,
     "metadata": {},
     "output_type": "execute_result"
    }
   ],
   "source": [
    "df2"
   ]
  },
  {
   "cell_type": "code",
   "execution_count": 22,
   "metadata": {},
   "outputs": [
    {
     "data": {
      "text/plain": [
       "time          object\n",
       "disclaimer    object\n",
       "chartName     object\n",
       "bpi           object\n",
       "dtype: object"
      ]
     },
     "execution_count": 22,
     "metadata": {},
     "output_type": "execute_result"
    }
   ],
   "source": [
    "df2.dtypes"
   ]
  },
  {
   "cell_type": "code",
   "execution_count": 23,
   "metadata": {},
   "outputs": [
    {
     "data": {
      "text/plain": [
       "<bound method NDFrame.describe of                                  time  \\\n",
       "updated     Sep 22, 2021 15:21:00 UTC   \n",
       "updatedISO  2021-09-22T15:21:00+00:00   \n",
       "updateduk   Sep 22, 2021 at 16:21 BST   \n",
       "USD                               NaN   \n",
       "GBP                               NaN   \n",
       "EUR                               NaN   \n",
       "\n",
       "                                                   disclaimer chartName  \\\n",
       "updated     This data was produced from the CoinDesk Bitco...   Bitcoin   \n",
       "updatedISO  This data was produced from the CoinDesk Bitco...   Bitcoin   \n",
       "updateduk   This data was produced from the CoinDesk Bitco...   Bitcoin   \n",
       "USD         This data was produced from the CoinDesk Bitco...   Bitcoin   \n",
       "GBP         This data was produced from the CoinDesk Bitco...   Bitcoin   \n",
       "EUR         This data was produced from the CoinDesk Bitco...   Bitcoin   \n",
       "\n",
       "                                                          bpi  \n",
       "updated                                                   NaN  \n",
       "updatedISO                                                NaN  \n",
       "updateduk                                                 NaN  \n",
       "USD         {'code': 'USD', 'symbol': '&#36;', 'rate': '42...  \n",
       "GBP         {'code': 'GBP', 'symbol': '&pound;', 'rate': '...  \n",
       "EUR         {'code': 'EUR', 'symbol': '&euro;', 'rate': '3...  >"
      ]
     },
     "execution_count": 23,
     "metadata": {},
     "output_type": "execute_result"
    }
   ],
   "source": [
    "df2.describe"
   ]
  },
  {
   "cell_type": "code",
   "execution_count": 24,
   "metadata": {},
   "outputs": [
    {
     "data": {
      "text/plain": [
       "time          6\n",
       "disclaimer    6\n",
       "chartName     6\n",
       "bpi           6\n",
       "dtype: int64"
      ]
     },
     "execution_count": 24,
     "metadata": {},
     "output_type": "execute_result"
    }
   ],
   "source": [
    "df2.isnull().count()"
   ]
  },
  {
   "cell_type": "code",
   "execution_count": 25,
   "metadata": {},
   "outputs": [
    {
     "data": {
      "text/html": [
       "<div>\n",
       "<style scoped>\n",
       "    .dataframe tbody tr th:only-of-type {\n",
       "        vertical-align: middle;\n",
       "    }\n",
       "\n",
       "    .dataframe tbody tr th {\n",
       "        vertical-align: top;\n",
       "    }\n",
       "\n",
       "    .dataframe thead th {\n",
       "        text-align: right;\n",
       "    }\n",
       "</style>\n",
       "<table border=\"1\" class=\"dataframe\">\n",
       "  <thead>\n",
       "    <tr style=\"text-align: right;\">\n",
       "      <th></th>\n",
       "      <th>USD</th>\n",
       "      <th>GBP</th>\n",
       "      <th>EUR</th>\n",
       "    </tr>\n",
       "  </thead>\n",
       "  <tbody>\n",
       "    <tr>\n",
       "      <td>code</td>\n",
       "      <td>USD</td>\n",
       "      <td>GBP</td>\n",
       "      <td>EUR</td>\n",
       "    </tr>\n",
       "    <tr>\n",
       "      <td>symbol</td>\n",
       "      <td>&amp;#36;</td>\n",
       "      <td>&amp;pound;</td>\n",
       "      <td>&amp;euro;</td>\n",
       "    </tr>\n",
       "    <tr>\n",
       "      <td>rate</td>\n",
       "      <td>42,513.0465</td>\n",
       "      <td>31,158.9171</td>\n",
       "      <td>36,227.0249</td>\n",
       "    </tr>\n",
       "    <tr>\n",
       "      <td>description</td>\n",
       "      <td>United States Dollar</td>\n",
       "      <td>British Pound Sterling</td>\n",
       "      <td>Euro</td>\n",
       "    </tr>\n",
       "    <tr>\n",
       "      <td>rate_float</td>\n",
       "      <td>42513</td>\n",
       "      <td>31158.9</td>\n",
       "      <td>36227</td>\n",
       "    </tr>\n",
       "  </tbody>\n",
       "</table>\n",
       "</div>"
      ],
      "text/plain": [
       "                              USD                     GBP          EUR\n",
       "code                          USD                     GBP          EUR\n",
       "symbol                      &#36;                 &pound;       &euro;\n",
       "rate                  42,513.0465             31,158.9171  36,227.0249\n",
       "description  United States Dollar  British Pound Sterling         Euro\n",
       "rate_float                  42513                 31158.9        36227"
      ]
     },
     "execution_count": 25,
     "metadata": {},
     "output_type": "execute_result"
    }
   ],
   "source": [
    "a = pd.DataFrame(data2['bpi'])\n",
    "a"
   ]
  },
  {
   "cell_type": "code",
   "execution_count": 26,
   "metadata": {},
   "outputs": [],
   "source": [
    "a = a.transpose()"
   ]
  },
  {
   "cell_type": "code",
   "execution_count": 27,
   "metadata": {},
   "outputs": [
    {
     "data": {
      "text/html": [
       "<div>\n",
       "<style scoped>\n",
       "    .dataframe tbody tr th:only-of-type {\n",
       "        vertical-align: middle;\n",
       "    }\n",
       "\n",
       "    .dataframe tbody tr th {\n",
       "        vertical-align: top;\n",
       "    }\n",
       "\n",
       "    .dataframe thead th {\n",
       "        text-align: right;\n",
       "    }\n",
       "</style>\n",
       "<table border=\"1\" class=\"dataframe\">\n",
       "  <thead>\n",
       "    <tr style=\"text-align: right;\">\n",
       "      <th></th>\n",
       "      <th>code</th>\n",
       "      <th>symbol</th>\n",
       "      <th>rate</th>\n",
       "      <th>description</th>\n",
       "      <th>rate_float</th>\n",
       "    </tr>\n",
       "  </thead>\n",
       "  <tbody>\n",
       "    <tr>\n",
       "      <td>USD</td>\n",
       "      <td>USD</td>\n",
       "      <td>&amp;#36;</td>\n",
       "      <td>42,513.0465</td>\n",
       "      <td>United States Dollar</td>\n",
       "      <td>42513</td>\n",
       "    </tr>\n",
       "    <tr>\n",
       "      <td>GBP</td>\n",
       "      <td>GBP</td>\n",
       "      <td>&amp;pound;</td>\n",
       "      <td>31,158.9171</td>\n",
       "      <td>British Pound Sterling</td>\n",
       "      <td>31158.9</td>\n",
       "    </tr>\n",
       "    <tr>\n",
       "      <td>EUR</td>\n",
       "      <td>EUR</td>\n",
       "      <td>&amp;euro;</td>\n",
       "      <td>36,227.0249</td>\n",
       "      <td>Euro</td>\n",
       "      <td>36227</td>\n",
       "    </tr>\n",
       "  </tbody>\n",
       "</table>\n",
       "</div>"
      ],
      "text/plain": [
       "    code   symbol         rate             description rate_float\n",
       "USD  USD    &#36;  42,513.0465    United States Dollar      42513\n",
       "GBP  GBP  &pound;  31,158.9171  British Pound Sterling    31158.9\n",
       "EUR  EUR   &euro;  36,227.0249                    Euro      36227"
      ]
     },
     "execution_count": 27,
     "metadata": {},
     "output_type": "execute_result"
    }
   ],
   "source": [
    "a"
   ]
  },
  {
   "cell_type": "code",
   "execution_count": 28,
   "metadata": {},
   "outputs": [],
   "source": [
    "df2 = df2.drop(\"bpi\",axis = 1)\n"
   ]
  },
  {
   "cell_type": "code",
   "execution_count": 29,
   "metadata": {},
   "outputs": [],
   "source": [
    "\n",
    "df2 = df2.drop([\"updated\",\"updatedISO\",\"updateduk\"],axis = 0)"
   ]
  },
  {
   "cell_type": "code",
   "execution_count": 30,
   "metadata": {},
   "outputs": [
    {
     "data": {
      "text/html": [
       "<div>\n",
       "<style scoped>\n",
       "    .dataframe tbody tr th:only-of-type {\n",
       "        vertical-align: middle;\n",
       "    }\n",
       "\n",
       "    .dataframe tbody tr th {\n",
       "        vertical-align: top;\n",
       "    }\n",
       "\n",
       "    .dataframe thead th {\n",
       "        text-align: right;\n",
       "    }\n",
       "</style>\n",
       "<table border=\"1\" class=\"dataframe\">\n",
       "  <thead>\n",
       "    <tr style=\"text-align: right;\">\n",
       "      <th></th>\n",
       "      <th>time</th>\n",
       "      <th>disclaimer</th>\n",
       "      <th>chartName</th>\n",
       "    </tr>\n",
       "  </thead>\n",
       "  <tbody>\n",
       "    <tr>\n",
       "      <td>USD</td>\n",
       "      <td>NaN</td>\n",
       "      <td>This data was produced from the CoinDesk Bitco...</td>\n",
       "      <td>Bitcoin</td>\n",
       "    </tr>\n",
       "    <tr>\n",
       "      <td>GBP</td>\n",
       "      <td>NaN</td>\n",
       "      <td>This data was produced from the CoinDesk Bitco...</td>\n",
       "      <td>Bitcoin</td>\n",
       "    </tr>\n",
       "    <tr>\n",
       "      <td>EUR</td>\n",
       "      <td>NaN</td>\n",
       "      <td>This data was produced from the CoinDesk Bitco...</td>\n",
       "      <td>Bitcoin</td>\n",
       "    </tr>\n",
       "  </tbody>\n",
       "</table>\n",
       "</div>"
      ],
      "text/plain": [
       "    time                                         disclaimer chartName\n",
       "USD  NaN  This data was produced from the CoinDesk Bitco...   Bitcoin\n",
       "GBP  NaN  This data was produced from the CoinDesk Bitco...   Bitcoin\n",
       "EUR  NaN  This data was produced from the CoinDesk Bitco...   Bitcoin"
      ]
     },
     "execution_count": 30,
     "metadata": {},
     "output_type": "execute_result"
    }
   ],
   "source": [
    "df2"
   ]
  },
  {
   "cell_type": "code",
   "execution_count": 31,
   "metadata": {},
   "outputs": [
    {
     "data": {
      "text/html": [
       "<div>\n",
       "<style scoped>\n",
       "    .dataframe tbody tr th:only-of-type {\n",
       "        vertical-align: middle;\n",
       "    }\n",
       "\n",
       "    .dataframe tbody tr th {\n",
       "        vertical-align: top;\n",
       "    }\n",
       "\n",
       "    .dataframe thead th {\n",
       "        text-align: right;\n",
       "    }\n",
       "</style>\n",
       "<table border=\"1\" class=\"dataframe\">\n",
       "  <thead>\n",
       "    <tr style=\"text-align: right;\">\n",
       "      <th></th>\n",
       "      <th>time</th>\n",
       "      <th>disclaimer</th>\n",
       "      <th>chartName</th>\n",
       "      <th>code</th>\n",
       "      <th>symbol</th>\n",
       "      <th>rate</th>\n",
       "      <th>description</th>\n",
       "      <th>rate_float</th>\n",
       "    </tr>\n",
       "  </thead>\n",
       "  <tbody>\n",
       "    <tr>\n",
       "      <td>USD</td>\n",
       "      <td>NaN</td>\n",
       "      <td>This data was produced from the CoinDesk Bitco...</td>\n",
       "      <td>Bitcoin</td>\n",
       "      <td>USD</td>\n",
       "      <td>&amp;#36;</td>\n",
       "      <td>42,513.0465</td>\n",
       "      <td>United States Dollar</td>\n",
       "      <td>42513</td>\n",
       "    </tr>\n",
       "    <tr>\n",
       "      <td>GBP</td>\n",
       "      <td>NaN</td>\n",
       "      <td>This data was produced from the CoinDesk Bitco...</td>\n",
       "      <td>Bitcoin</td>\n",
       "      <td>GBP</td>\n",
       "      <td>&amp;pound;</td>\n",
       "      <td>31,158.9171</td>\n",
       "      <td>British Pound Sterling</td>\n",
       "      <td>31158.9</td>\n",
       "    </tr>\n",
       "    <tr>\n",
       "      <td>EUR</td>\n",
       "      <td>NaN</td>\n",
       "      <td>This data was produced from the CoinDesk Bitco...</td>\n",
       "      <td>Bitcoin</td>\n",
       "      <td>EUR</td>\n",
       "      <td>&amp;euro;</td>\n",
       "      <td>36,227.0249</td>\n",
       "      <td>Euro</td>\n",
       "      <td>36227</td>\n",
       "    </tr>\n",
       "  </tbody>\n",
       "</table>\n",
       "</div>"
      ],
      "text/plain": [
       "    time                                         disclaimer chartName code  \\\n",
       "USD  NaN  This data was produced from the CoinDesk Bitco...   Bitcoin  USD   \n",
       "GBP  NaN  This data was produced from the CoinDesk Bitco...   Bitcoin  GBP   \n",
       "EUR  NaN  This data was produced from the CoinDesk Bitco...   Bitcoin  EUR   \n",
       "\n",
       "      symbol         rate             description rate_float  \n",
       "USD    &#36;  42,513.0465    United States Dollar      42513  \n",
       "GBP  &pound;  31,158.9171  British Pound Sterling    31158.9  \n",
       "EUR   &euro;  36,227.0249                    Euro      36227  "
      ]
     },
     "execution_count": 31,
     "metadata": {},
     "output_type": "execute_result"
    }
   ],
   "source": [
    "frames = [df2,a]\n",
    "df2 = pd.concat(frames,axis = 1)\n",
    "df2"
   ]
  },
  {
   "cell_type": "code",
   "execution_count": 32,
   "metadata": {},
   "outputs": [],
   "source": [
    "df2 = df2.drop(['time'],axis = 1)"
   ]
  },
  {
   "cell_type": "code",
   "execution_count": null,
   "metadata": {},
   "outputs": [],
   "source": []
  },
  {
   "cell_type": "code",
   "execution_count": 70,
   "metadata": {},
   "outputs": [
    {
     "data": {
      "text/plain": [
       "<matplotlib.axes._subplots.AxesSubplot at 0x2007aa4adc8>"
      ]
     },
     "execution_count": 70,
     "metadata": {},
     "output_type": "execute_result"
    },
    {
     "data": {
      "image/png": "[encoded data removed]",
      "text/plain": [
       "<Figure size 432x288 with 1 Axes>"
      ]
     },
     "metadata": {
      "needs_background": "light"
     },
     "output_type": "display_data"
    }
   ],
   "source": [
    "df2.plot(kind='bar',x='code',y='rate_float',color = 'red' , title = 'Price of bitcoin in each country' , )"
   ]
  },
  {
   "cell_type": "code",
   "execution_count": 34,
   "metadata": {},
   "outputs": [
    {
     "name": "stdout",
     "output_type": "stream",
     "text": [
      "<Response [200]>\n"
     ]
    }
   ],
   "source": [
    "url3 = 'https://api.nationalize.io/?name=nathaniel'\n",
    "r3 = get_requests(url3)"
   ]
  },
  {
   "cell_type": "code",
   "execution_count": 35,
   "metadata": {},
   "outputs": [],
   "source": [
    "save_name(\"national\",r3)"
   ]
  },
  {
   "cell_type": "code",
   "execution_count": 36,
   "metadata": {},
   "outputs": [],
   "source": [
    "data3 = Load_File('national')"
   ]
  },
  {
   "cell_type": "code",
   "execution_count": 48,
   "metadata": {},
   "outputs": [
    {
     "data": {
      "text/plain": [
       "country_id      object\n",
       "probability    float64\n",
       "dtype: object"
      ]
     },
     "execution_count": 48,
     "metadata": {},
     "output_type": "execute_result"
    }
   ],
   "source": [
    "df3.dtypes"
   ]
  },
  {
   "cell_type": "code",
   "execution_count": 43,
   "metadata": {},
   "outputs": [
    {
     "data": {
      "text/html": [
       "<div>\n",
       "<style scoped>\n",
       "    .dataframe tbody tr th:only-of-type {\n",
       "        vertical-align: middle;\n",
       "    }\n",
       "\n",
       "    .dataframe tbody tr th {\n",
       "        vertical-align: top;\n",
       "    }\n",
       "\n",
       "    .dataframe thead th {\n",
       "        text-align: right;\n",
       "    }\n",
       "</style>\n",
       "<table border=\"1\" class=\"dataframe\">\n",
       "  <thead>\n",
       "    <tr style=\"text-align: right;\">\n",
       "      <th></th>\n",
       "      <th>country_id</th>\n",
       "      <th>probability</th>\n",
       "    </tr>\n",
       "  </thead>\n",
       "  <tbody>\n",
       "    <tr>\n",
       "      <td>0</td>\n",
       "      <td>GH</td>\n",
       "      <td>0.330649</td>\n",
       "    </tr>\n",
       "    <tr>\n",
       "      <td>1</td>\n",
       "      <td>US</td>\n",
       "      <td>0.214659</td>\n",
       "    </tr>\n",
       "    <tr>\n",
       "      <td>2</td>\n",
       "      <td>PH</td>\n",
       "      <td>0.165708</td>\n",
       "    </tr>\n",
       "  </tbody>\n",
       "</table>\n",
       "</div>"
      ],
      "text/plain": [
       "  country_id  probability\n",
       "0         GH     0.330649\n",
       "1         US     0.214659\n",
       "2         PH     0.165708"
      ]
     },
     "execution_count": 43,
     "metadata": {},
     "output_type": "execute_result"
    }
   ],
   "source": [
    "df3 = pd.DataFrame(data3['country'])\n",
    "df3"
   ]
  },
  {
   "cell_type": "code",
   "execution_count": 68,
   "metadata": {},
   "outputs": [
    {
     "data": {
      "text/plain": [
       "<matplotlib.axes._subplots.AxesSubplot at 0x20079916408>"
      ]
     },
     "execution_count": 68,
     "metadata": {},
     "output_type": "execute_result"
    },
    {
     "data": {
      "image/png": "[encoded data removed]",
      "text/plain": [
       "<Figure size 432x288 with 1 Axes>"
      ]
     },
     "metadata": {
      "needs_background": "light"
     },
     "output_type": "display_data"
    }
   ],
   "source": [
    "df3.plot(kind='line',x='country_id',y='probability',color = 'pink', title = 'Probability of name nathaniel in each country' , grid = True)"
   ]
  },
  {
   "cell_type": "code",
   "execution_count": 37,
   "metadata": {},
   "outputs": [
    {
     "name": "stdout",
     "output_type": "stream",
     "text": [
      "<Response [200]>\n"
     ]
    }
   ],
   "source": [
    "url4 = 'https://datausa.io/api/data?drilldowns=Nation&measures=Population'\n",
    "r4 = get_requests(url4)"
   ]
  },
  {
   "cell_type": "code",
   "execution_count": 38,
   "metadata": {},
   "outputs": [],
   "source": [
    "save_name(\"dataUSA\",r4)"
   ]
  },
  {
   "cell_type": "code",
   "execution_count": 39,
   "metadata": {},
   "outputs": [],
   "source": [
    "data4 = Load_File('dataUSA')"
   ]
  },
  {
   "cell_type": "code",
   "execution_count": 86,
   "metadata": {},
   "outputs": [
    {
     "data": {
      "text/html": [
       "<div>\n",
       "<style scoped>\n",
       "    .dataframe tbody tr th:only-of-type {\n",
       "        vertical-align: middle;\n",
       "    }\n",
       "\n",
       "    .dataframe tbody tr th {\n",
       "        vertical-align: top;\n",
       "    }\n",
       "\n",
       "    .dataframe thead th {\n",
       "        text-align: right;\n",
       "    }\n",
       "</style>\n",
       "<table border=\"1\" class=\"dataframe\">\n",
       "  <thead>\n",
       "    <tr style=\"text-align: right;\">\n",
       "      <th></th>\n",
       "      <th>ID Nation</th>\n",
       "      <th>Nation</th>\n",
       "      <th>ID Year</th>\n",
       "      <th>Year</th>\n",
       "      <th>Population</th>\n",
       "      <th>Slug Nation</th>\n",
       "    </tr>\n",
       "  </thead>\n",
       "  <tbody>\n",
       "    <tr>\n",
       "      <td>0</td>\n",
       "      <td>01000US</td>\n",
       "      <td>United States</td>\n",
       "      <td>2019</td>\n",
       "      <td>2019</td>\n",
       "      <td>328239523</td>\n",
       "      <td>united-states</td>\n",
       "    </tr>\n",
       "    <tr>\n",
       "      <td>1</td>\n",
       "      <td>01000US</td>\n",
       "      <td>United States</td>\n",
       "      <td>2018</td>\n",
       "      <td>2018</td>\n",
       "      <td>327167439</td>\n",
       "      <td>united-states</td>\n",
       "    </tr>\n",
       "    <tr>\n",
       "      <td>2</td>\n",
       "      <td>01000US</td>\n",
       "      <td>United States</td>\n",
       "      <td>2017</td>\n",
       "      <td>2017</td>\n",
       "      <td>325719178</td>\n",
       "      <td>united-states</td>\n",
       "    </tr>\n",
       "    <tr>\n",
       "      <td>3</td>\n",
       "      <td>01000US</td>\n",
       "      <td>United States</td>\n",
       "      <td>2016</td>\n",
       "      <td>2016</td>\n",
       "      <td>323127515</td>\n",
       "      <td>united-states</td>\n",
       "    </tr>\n",
       "    <tr>\n",
       "      <td>4</td>\n",
       "      <td>01000US</td>\n",
       "      <td>United States</td>\n",
       "      <td>2015</td>\n",
       "      <td>2015</td>\n",
       "      <td>321418821</td>\n",
       "      <td>united-states</td>\n",
       "    </tr>\n",
       "    <tr>\n",
       "      <td>5</td>\n",
       "      <td>01000US</td>\n",
       "      <td>United States</td>\n",
       "      <td>2014</td>\n",
       "      <td>2014</td>\n",
       "      <td>318857056</td>\n",
       "      <td>united-states</td>\n",
       "    </tr>\n",
       "    <tr>\n",
       "      <td>6</td>\n",
       "      <td>01000US</td>\n",
       "      <td>United States</td>\n",
       "      <td>2013</td>\n",
       "      <td>2013</td>\n",
       "      <td>316128839</td>\n",
       "      <td>united-states</td>\n",
       "    </tr>\n",
       "  </tbody>\n",
       "</table>\n",
       "</div>"
      ],
      "text/plain": [
       "  ID Nation         Nation  ID Year  Year  Population    Slug Nation\n",
       "0   01000US  United States     2019  2019   328239523  united-states\n",
       "1   01000US  United States     2018  2018   327167439  united-states\n",
       "2   01000US  United States     2017  2017   325719178  united-states\n",
       "3   01000US  United States     2016  2016   323127515  united-states\n",
       "4   01000US  United States     2015  2015   321418821  united-states\n",
       "5   01000US  United States     2014  2014   318857056  united-states\n",
       "6   01000US  United States     2013  2013   316128839  united-states"
      ]
     },
     "execution_count": 86,
     "metadata": {},
     "output_type": "execute_result"
    }
   ],
   "source": [
    "df4 = pd.DataFrame(data4['data'])\n",
    "df4"
   ]
  },
  {
   "cell_type": "code",
   "execution_count": 87,
   "metadata": {},
   "outputs": [
    {
     "data": {
      "text/html": [
       "<div>\n",
       "<style scoped>\n",
       "    .dataframe tbody tr th:only-of-type {\n",
       "        vertical-align: middle;\n",
       "    }\n",
       "\n",
       "    .dataframe tbody tr th {\n",
       "        vertical-align: top;\n",
       "    }\n",
       "\n",
       "    .dataframe thead th {\n",
       "        text-align: right;\n",
       "    }\n",
       "</style>\n",
       "<table border=\"1\" class=\"dataframe\">\n",
       "  <thead>\n",
       "    <tr style=\"text-align: right;\">\n",
       "      <th></th>\n",
       "      <th>ID Nation</th>\n",
       "      <th>Nation</th>\n",
       "      <th>Year</th>\n",
       "      <th>Population</th>\n",
       "      <th>Slug Nation</th>\n",
       "    </tr>\n",
       "  </thead>\n",
       "  <tbody>\n",
       "    <tr>\n",
       "      <td>0</td>\n",
       "      <td>01000US</td>\n",
       "      <td>United States</td>\n",
       "      <td>2019</td>\n",
       "      <td>328239523</td>\n",
       "      <td>united-states</td>\n",
       "    </tr>\n",
       "    <tr>\n",
       "      <td>1</td>\n",
       "      <td>01000US</td>\n",
       "      <td>United States</td>\n",
       "      <td>2018</td>\n",
       "      <td>327167439</td>\n",
       "      <td>united-states</td>\n",
       "    </tr>\n",
       "    <tr>\n",
       "      <td>2</td>\n",
       "      <td>01000US</td>\n",
       "      <td>United States</td>\n",
       "      <td>2017</td>\n",
       "      <td>325719178</td>\n",
       "      <td>united-states</td>\n",
       "    </tr>\n",
       "    <tr>\n",
       "      <td>3</td>\n",
       "      <td>01000US</td>\n",
       "      <td>United States</td>\n",
       "      <td>2016</td>\n",
       "      <td>323127515</td>\n",
       "      <td>united-states</td>\n",
       "    </tr>\n",
       "    <tr>\n",
       "      <td>4</td>\n",
       "      <td>01000US</td>\n",
       "      <td>United States</td>\n",
       "      <td>2015</td>\n",
       "      <td>321418821</td>\n",
       "      <td>united-states</td>\n",
       "    </tr>\n",
       "    <tr>\n",
       "      <td>5</td>\n",
       "      <td>01000US</td>\n",
       "      <td>United States</td>\n",
       "      <td>2014</td>\n",
       "      <td>318857056</td>\n",
       "      <td>united-states</td>\n",
       "    </tr>\n",
       "    <tr>\n",
       "      <td>6</td>\n",
       "      <td>01000US</td>\n",
       "      <td>United States</td>\n",
       "      <td>2013</td>\n",
       "      <td>316128839</td>\n",
       "      <td>united-states</td>\n",
       "    </tr>\n",
       "  </tbody>\n",
       "</table>\n",
       "</div>"
      ],
      "text/plain": [
       "  ID Nation         Nation  Year  Population    Slug Nation\n",
       "0   01000US  United States  2019   328239523  united-states\n",
       "1   01000US  United States  2018   327167439  united-states\n",
       "2   01000US  United States  2017   325719178  united-states\n",
       "3   01000US  United States  2016   323127515  united-states\n",
       "4   01000US  United States  2015   321418821  united-states\n",
       "5   01000US  United States  2014   318857056  united-states\n",
       "6   01000US  United States  2013   316128839  united-states"
      ]
     },
     "execution_count": 87,
     "metadata": {},
     "output_type": "execute_result"
    }
   ],
   "source": [
    "df4 = df4.drop(\"ID Year\",axis = 1)\n",
    "df4"
   ]
  },
  {
   "cell_type": "code",
   "execution_count": 88,
   "metadata": {},
   "outputs": [],
   "source": [
    "df4 = df4.reindex(df4.index[::-1])"
   ]
  },
  {
   "cell_type": "code",
   "execution_count": 93,
   "metadata": {},
   "outputs": [
    {
     "data": {
      "text/plain": [
       "<matplotlib.axes._subplots.AxesSubplot at 0x2007affa688>"
      ]
     },
     "execution_count": 93,
     "metadata": {},
     "output_type": "execute_result"
    },
    {
     "data": {
      "image/png": "[encoded data removed]",
      "text/plain": [
       "<Figure size 432x288 with 1 Axes>"
      ]
     },
     "metadata": {
      "needs_background": "light"
     },
     "output_type": "display_data"
    }
   ],
   "source": [
    "df4.plot(kind='line',x='Year',y='Population',color = 'blue', title = 'Population of United States' )"
   ]
  },
  {
   "cell_type": "code",
   "execution_count": 94,
   "metadata": {},
   "outputs": [
    {
     "name": "stdout",
     "output_type": "stream",
     "text": [
      "<Response [200]>\n"
     ]
    }
   ],
   "source": [
    "url5 = 'https://ipinfo.io/161.185.160.93/geo'\n",
    "r5 = get_requests(url5)"
   ]
  },
  {
   "cell_type": "code",
   "execution_count": 95,
   "metadata": {},
   "outputs": [],
   "source": [
    "save_name(\"ipinfo\",r5)"
   ]
  },
  {
   "cell_type": "code",
   "execution_count": 96,
   "metadata": {},
   "outputs": [],
   "source": [
    "data5 = Load_File('ipinfo')"
   ]
  },
  {
   "cell_type": "code",
   "execution_count": 98,
   "metadata": {},
   "outputs": [
    {
     "data": {
      "text/plain": [
       "{'ip': '161.185.160.93',\n",
       " 'city': 'New York City',\n",
       " 'region': 'New York',\n",
       " 'country': 'US',\n",
       " 'loc': '40.7143,-74.0060',\n",
       " 'org': 'AS22252 The City of New York',\n",
       " 'postal': '10004',\n",
       " 'timezone': 'America/New_York',\n",
       " 'readme': 'https://ipinfo.io/missingauth'}"
      ]
     },
     "execution_count": 98,
     "metadata": {},
     "output_type": "execute_result"
    }
   ],
   "source": [
    "data5"
   ]
  },
  {
   "cell_type": "code",
   "execution_count": 100,
   "metadata": {},
   "outputs": [],
   "source": [
    "df5 = pd.DataFrame(data5, index=[0])"
   ]
  },
  {
   "cell_type": "code",
   "execution_count": 105,
   "metadata": {},
   "outputs": [
    {
     "data": {
      "text/html": [
       "<div>\n",
       "<style scoped>\n",
       "    .dataframe tbody tr th:only-of-type {\n",
       "        vertical-align: middle;\n",
       "    }\n",
       "\n",
       "    .dataframe tbody tr th {\n",
       "        vertical-align: top;\n",
       "    }\n",
       "\n",
       "    .dataframe thead th {\n",
       "        text-align: right;\n",
       "    }\n",
       "</style>\n",
       "<table border=\"1\" class=\"dataframe\">\n",
       "  <thead>\n",
       "    <tr style=\"text-align: right;\">\n",
       "      <th></th>\n",
       "      <th>ip</th>\n",
       "      <th>city</th>\n",
       "      <th>region</th>\n",
       "      <th>country</th>\n",
       "      <th>loc</th>\n",
       "      <th>org</th>\n",
       "      <th>postal</th>\n",
       "      <th>timezone</th>\n",
       "      <th>readme</th>\n",
       "    </tr>\n",
       "  </thead>\n",
       "  <tbody>\n",
       "    <tr>\n",
       "      <td>0</td>\n",
       "      <td>161.185.160.93</td>\n",
       "      <td>New York City</td>\n",
       "      <td>New York</td>\n",
       "      <td>US</td>\n",
       "      <td>40.7143,-74.0060</td>\n",
       "      <td>AS22252 The City of New York</td>\n",
       "      <td>10004</td>\n",
       "      <td>America/New_York</td>\n",
       "      <td>https://ipinfo.io/missingauth</td>\n",
       "    </tr>\n",
       "  </tbody>\n",
       "</table>\n",
       "</div>"
      ],
      "text/plain": [
       "               ip           city    region country               loc  \\\n",
       "0  161.185.160.93  New York City  New York      US  40.7143,-74.0060   \n",
       "\n",
       "                            org postal          timezone  \\\n",
       "0  AS22252 The City of New York  10004  America/New_York   \n",
       "\n",
       "                          readme  \n",
       "0  https://ipinfo.io/missingauth  "
      ]
     },
     "execution_count": 105,
     "metadata": {},
     "output_type": "execute_result"
    }
   ],
   "source": [
    "df5"
   ]
  },
  {
   "cell_type": "code",
   "execution_count": 106,
   "metadata": {},
   "outputs": [
    {
     "data": {
      "text/plain": [
       "ip          object\n",
       "city        object\n",
       "region      object\n",
       "country     object\n",
       "loc         object\n",
       "org         object\n",
       "postal      object\n",
       "timezone    object\n",
       "readme      object\n",
       "dtype: object"
      ]
     },
     "execution_count": 106,
     "metadata": {},
     "output_type": "execute_result"
    }
   ],
   "source": [
    "df5.dtypes"
   ]
  },
  {
   "cell_type": "code",
   "execution_count": 112,
   "metadata": {},
   "outputs": [
    {
     "data": {
      "text/html": [
       "<div>\n",
       "<style scoped>\n",
       "    .dataframe tbody tr th:only-of-type {\n",
       "        vertical-align: middle;\n",
       "    }\n",
       "\n",
       "    .dataframe tbody tr th {\n",
       "        vertical-align: top;\n",
       "    }\n",
       "\n",
       "    .dataframe thead th {\n",
       "        text-align: right;\n",
       "    }\n",
       "</style>\n",
       "<table border=\"1\" class=\"dataframe\">\n",
       "  <thead>\n",
       "    <tr style=\"text-align: right;\">\n",
       "      <th></th>\n",
       "      <th>ip</th>\n",
       "      <th>city</th>\n",
       "      <th>region</th>\n",
       "      <th>country</th>\n",
       "      <th>loc</th>\n",
       "      <th>org</th>\n",
       "      <th>postal</th>\n",
       "      <th>timezone</th>\n",
       "      <th>readme</th>\n",
       "      <th>latitude</th>\n",
       "      <th>longtitude</th>\n",
       "    </tr>\n",
       "  </thead>\n",
       "  <tbody>\n",
       "    <tr>\n",
       "      <td>0</td>\n",
       "      <td>161.185.160.93</td>\n",
       "      <td>New York City</td>\n",
       "      <td>New York</td>\n",
       "      <td>US</td>\n",
       "      <td>40.7143,-74.0060</td>\n",
       "      <td>AS22252 The City of New York</td>\n",
       "      <td>10004</td>\n",
       "      <td>America/New_York</td>\n",
       "      <td>https://ipinfo.io/missingauth</td>\n",
       "      <td>40.7143</td>\n",
       "      <td>-74.0060</td>\n",
       "    </tr>\n",
       "  </tbody>\n",
       "</table>\n",
       "</div>"
      ],
      "text/plain": [
       "               ip           city    region country               loc  \\\n",
       "0  161.185.160.93  New York City  New York      US  40.7143,-74.0060   \n",
       "\n",
       "                            org postal          timezone  \\\n",
       "0  AS22252 The City of New York  10004  America/New_York   \n",
       "\n",
       "                          readme latitude longtitude  \n",
       "0  https://ipinfo.io/missingauth  40.7143   -74.0060  "
      ]
     },
     "execution_count": 112,
     "metadata": {},
     "output_type": "execute_result"
    }
   ],
   "source": [
    "df5[['latitude','longtitude']] = df5['loc'].str.split(\",\",expand=True,)\n",
    "df5"
   ]
  },
  {
   "cell_type": "code",
   "execution_count": 119,
   "metadata": {},
   "outputs": [
    {
     "data": {
      "text/html": [
       "<div style=\"width:100%;\"><div style=\"position:relative;width:100%;height:0;padding-bottom:60%;\"><span style=\"color:#565656\">Make this Notebook Trusted to load map: File -> Trust Notebook</span><iframe src=\"about:blank\" style=\"position:absolute;width:100%;height:100%;left:0;top:0;border:none !important;\" data-html=%3C%21DOCTYPE%20html%3E%0A%3Chead%3E%20%20%20%20%0A%20%20%20%20%3Cmeta%20http-equiv%3D%22content-type%22%20content%3D%22text/html%3B%20charset%3DUTF-8%22%20/%3E%0A%20%20%20%20%0A%20%20%20%20%20%20%20%20%3Cscript%3E%0A%20%20%20%20%20%20%20%20%20%20%20%20L_NO_TOUCH%20%3D%20false%3B%0A%20%20%20%20%20%20%20%20%20%20%20%20L_DISABLE_3D%20%3D%20false%3B%0A%20%20%20%20%20%20%20%20%3C/script%3E%0A%20%20%20%20%0A%20%20%20%20%3Cstyle%3Ehtml%2C%20body%20%7Bwidth%3A%20100%25%3Bheight%3A%20100%25%3Bmargin%3A%200%3Bpadding%3A%200%3B%7D%3C/style%3E%0A%20%20%20%20%3Cstyle%3E%23map%20%7Bposition%3Aabsolute%3Btop%3A0%3Bbottom%3A0%3Bright%3A0%3Bleft%3A0%3B%7D%3C/style%3E%0A%20%20%20%20%3Cscript%20src%3D%22https%3A//cdn.jsdelivr.net/npm/leaflet%401.6.0/dist/leaflet.js%22%3E%3C/script%3E%0A%20%20%20%20%3Cscript%20src%3D%22https%3A//code.jquery.com/jquery-1.12.4.min.js%22%3E%3C/script%3E%0A%20%20%20%20%3Cscript%20src%3D%22https%3A//maxcdn.bootstrapcdn.com/bootstrap/3.2.0/js/bootstrap.min.js%22%3E%3C/script%3E%0A%20%20%20%20%3Cscript%20src%3D%22https%3A//cdnjs.cloudflare.com/ajax/libs/Leaflet.awesome-markers/2.0.2/leaflet.awesome-markers.js%22%3E%3C/script%3E%0A%20%20%20%20%3Clink%20rel%3D%22stylesheet%22%20href%3D%22https%3A//cdn.jsdelivr.net/npm/leaflet%401.6.0/dist/leaflet.css%22/%3E%0A%20%20%20%20%3Clink%20rel%3D%22stylesheet%22%20href%3D%22https%3A//maxcdn.bootstrapcdn.com/bootstrap/3.2.0/css/bootstrap.min.css%22/%3E%0A%20%20%20%20%3Clink%20rel%3D%22stylesheet%22%20href%3D%22https%3A//maxcdn.bootstrapcdn.com/bootstrap/3.2.0/css/bootstrap-theme.min.css%22/%3E%0A%20%20%20%20%3Clink%20rel%3D%22stylesheet%22%20href%3D%22https%3A//maxcdn.bootstrapcdn.com/font-awesome/4.6.3/css/font-awesome.min.css%22/%3E%0A%20%20%20%20%3Clink%20rel%3D%22stylesheet%22%20href%3D%22https%3A//cdnjs.cloudflare.com/ajax/libs/Leaflet.awesome-markers/2.0.2/leaflet.awesome-markers.css%22/%3E%0A%20%20%20%20%3Clink%20rel%3D%22stylesheet%22%20href%3D%22https%3A//cdn.jsdelivr.net/gh/python-visualization/folium/folium/templates/leaflet.awesome.rotate.min.css%22/%3E%0A%20%20%20%20%0A%20%20%20%20%20%20%20%20%20%20%20%20%3Cmeta%20name%3D%22viewport%22%20content%3D%22width%3Ddevice-width%2C%0A%20%20%20%20%20%20%20%20%20%20%20%20%20%20%20%20initial-scale%3D1.0%2C%20maximum-scale%3D1.0%2C%20user-scalable%3Dno%22%20/%3E%0A%20%20%20%20%20%20%20%20%20%20%20%20%3Cstyle%3E%0A%20%20%20%20%20%20%20%20%20%20%20%20%20%20%20%20%23map_ffb91c748d9b4ba4b3c422f9a92d4e9f%20%7B%0A%20%20%20%20%20%20%20%20%20%20%20%20%20%20%20%20%20%20%20%20position%3A%20relative%3B%0A%20%20%20%20%20%20%20%20%20%20%20%20%20%20%20%20%20%20%20%20width%3A%20100.0%25%3B%0A%20%20%20%20%20%20%20%20%20%20%20%20%20%20%20%20%20%20%20%20height%3A%20100.0%25%3B%0A%20%20%20%20%20%20%20%20%20%20%20%20%20%20%20%20%20%20%20%20left%3A%200.0%25%3B%0A%20%20%20%20%20%20%20%20%20%20%20%20%20%20%20%20%20%20%20%20top%3A%200.0%25%3B%0A%20%20%20%20%20%20%20%20%20%20%20%20%20%20%20%20%7D%0A%20%20%20%20%20%20%20%20%20%20%20%20%3C/style%3E%0A%20%20%20%20%20%20%20%20%0A%3C/head%3E%0A%3Cbody%3E%20%20%20%20%0A%20%20%20%20%0A%20%20%20%20%20%20%20%20%20%20%20%20%3Cdiv%20class%3D%22folium-map%22%20id%3D%22map_ffb91c748d9b4ba4b3c422f9a92d4e9f%22%20%3E%3C/div%3E%0A%20%20%20%20%20%20%20%20%0A%3C/body%3E%0A%3Cscript%3E%20%20%20%20%0A%20%20%20%20%0A%20%20%20%20%20%20%20%20%20%20%20%20var%20map_ffb91c748d9b4ba4b3c422f9a92d4e9f%20%3D%20L.map%28%0A%20%20%20%20%20%20%20%20%20%20%20%20%20%20%20%20%22map_ffb91c748d9b4ba4b3c422f9a92d4e9f%22%2C%0A%20%20%20%20%20%20%20%20%20%20%20%20%20%20%20%20%7B%0A%20%20%20%20%20%20%20%20%20%20%20%20%20%20%20%20%20%20%20%20center%3A%20%5B40.7143%2C%20-74.006%5D%2C%0A%20%20%20%20%20%20%20%20%20%20%20%20%20%20%20%20%20%20%20%20crs%3A%20L.CRS.EPSG3857%2C%0A%20%20%20%20%20%20%20%20%20%20%20%20%20%20%20%20%20%20%20%20zoom%3A%2010%2C%0A%20%20%20%20%20%20%20%20%20%20%20%20%20%20%20%20%20%20%20%20zoomControl%3A%20true%2C%0A%20%20%20%20%20%20%20%20%20%20%20%20%20%20%20%20%20%20%20%20preferCanvas%3A%20false%2C%0A%20%20%20%20%20%20%20%20%20%20%20%20%20%20%20%20%7D%0A%20%20%20%20%20%20%20%20%20%20%20%20%29%3B%0A%0A%20%20%20%20%20%20%20%20%20%20%20%20%0A%0A%20%20%20%20%20%20%20%20%0A%20%20%20%20%0A%20%20%20%20%20%20%20%20%20%20%20%20var%20tile_layer_786f85bbf6f9480fa1768ff3115af978%20%3D%20L.tileLayer%28%0A%20%20%20%20%20%20%20%20%20%20%20%20%20%20%20%20%22https%3A//%7Bs%7D.tile.openstreetmap.org/%7Bz%7D/%7Bx%7D/%7By%7D.png%22%2C%0A%20%20%20%20%20%20%20%20%20%20%20%20%20%20%20%20%7B%22attribution%22%3A%20%22Data%20by%20%5Cu0026copy%3B%20%5Cu003ca%20href%3D%5C%22http%3A//openstreetmap.org%5C%22%5Cu003eOpenStreetMap%5Cu003c/a%5Cu003e%2C%20under%20%5Cu003ca%20href%3D%5C%22http%3A//www.openstreetmap.org/copyright%5C%22%5Cu003eODbL%5Cu003c/a%5Cu003e.%22%2C%20%22detectRetina%22%3A%20false%2C%20%22maxNativeZoom%22%3A%2018%2C%20%22maxZoom%22%3A%2018%2C%20%22minZoom%22%3A%200%2C%20%22noWrap%22%3A%20false%2C%20%22opacity%22%3A%201%2C%20%22subdomains%22%3A%20%22abc%22%2C%20%22tms%22%3A%20false%7D%0A%20%20%20%20%20%20%20%20%20%20%20%20%29.addTo%28map_ffb91c748d9b4ba4b3c422f9a92d4e9f%29%3B%0A%20%20%20%20%20%20%20%20%0A%20%20%20%20%0A%20%20%20%20%20%20%20%20%20%20%20%20var%20marker_d8d9ceac62ae4299b219b3867a98f53d%20%3D%20L.marker%28%0A%20%20%20%20%20%20%20%20%20%20%20%20%20%20%20%20%5B40.7143%2C%20-74.006%5D%2C%0A%20%20%20%20%20%20%20%20%20%20%20%20%20%20%20%20%7B%7D%0A%20%20%20%20%20%20%20%20%20%20%20%20%29.addTo%28map_ffb91c748d9b4ba4b3c422f9a92d4e9f%29%3B%0A%20%20%20%20%20%20%20%20%0A%20%20%20%20%0A%20%20%20%20%20%20%20%20%20%20%20%20var%20icon_200e178285ee4edd9f26349c83a81e62%20%3D%20L.AwesomeMarkers.icon%28%0A%20%20%20%20%20%20%20%20%20%20%20%20%20%20%20%20%7B%22extraClasses%22%3A%20%22fa-rotate-0%22%2C%20%22icon%22%3A%20%22cloud%22%2C%20%22iconColor%22%3A%20%22white%22%2C%20%22markerColor%22%3A%20%22blue%22%2C%20%22prefix%22%3A%20%22glyphicon%22%7D%0A%20%20%20%20%20%20%20%20%20%20%20%20%29%3B%0A%20%20%20%20%20%20%20%20%20%20%20%20marker_d8d9ceac62ae4299b219b3867a98f53d.setIcon%28icon_200e178285ee4edd9f26349c83a81e62%29%3B%0A%20%20%20%20%20%20%20%20%0A%20%20%20%20%0A%20%20%20%20%20%20%20%20var%20popup_d40fcd9e28084244b3bb20ef4324f427%20%3D%20L.popup%28%7B%22maxWidth%22%3A%20%22100%25%22%7D%29%3B%0A%0A%20%20%20%20%20%20%20%20%0A%20%20%20%20%20%20%20%20%20%20%20%20var%20html_0c042c1f59df471f8893b2bd2f8065b9%20%3D%20%24%28%60%3Cdiv%20id%3D%22html_0c042c1f59df471f8893b2bd2f8065b9%22%20style%3D%22width%3A%20100.0%25%3B%20height%3A%20100.0%25%3B%22%3E0%20%20%20%20New%20York%20City%20Name%3A%20city%2C%20dtype%3A%20object%3C/div%3E%60%29%5B0%5D%3B%0A%20%20%20%20%20%20%20%20%20%20%20%20popup_d40fcd9e28084244b3bb20ef4324f427.setContent%28html_0c042c1f59df471f8893b2bd2f8065b9%29%3B%0A%20%20%20%20%20%20%20%20%0A%0A%20%20%20%20%20%20%20%20marker_d8d9ceac62ae4299b219b3867a98f53d.bindPopup%28popup_d40fcd9e28084244b3bb20ef4324f427%29%0A%20%20%20%20%20%20%20%20%3B%0A%0A%20%20%20%20%20%20%20%20%0A%20%20%20%20%0A%3C/script%3E onload=\"this.contentDocument.open();this.contentDocument.write(    decodeURIComponent(this.getAttribute('data-html')));this.contentDocument.close();\" allowfullscreen webkitallowfullscreen mozallowfullscreen></iframe></div></div>"
      ],
      "text/plain": [
       "<folium.folium.Map at 0x2007b755d48>"
      ]
     },
     "execution_count": 119,
     "metadata": {},
     "output_type": "execute_result"
    }
   ],
   "source": [
    "import folium\n",
    "\n",
    "visual5 = folium.Map(\n",
    "    location=[df5.latitude, df5.longtitude],\n",
    "    zoom_start=10,\n",
    ")\n",
    "\n",
    "folium.Marker(\n",
    "    location=[df5.latitude, df5.longtitude],\n",
    "    popup=df5.city,\n",
    "    icon=folium.Icon(icon='cloud')\n",
    ").add_to(visual5)\n",
    "\n",
    "visual5"
   ]
  },
  {
   "cell_type": "code",
   "execution_count": null,
   "metadata": {},
   "outputs": [],
   "source": []
  }
 ],
 "metadata": {
  "kernelspec": {
   "display_name": "Python 3",
   "language": "python",
   "name": "python3"
  },
  "language_info": {
   "codemirror_mode": {
    "name": "ipython",
    "version": 3
   },
   "file_extension": ".py",
   "mimetype": "text/x-python",
   "name": "python",
   "nbconvert_exporter": "python",
   "pygments_lexer": "ipython3",
   "version": "3.7.4"
  }
 },
 "nbformat": 4,
 "nbformat_minor": 4
}

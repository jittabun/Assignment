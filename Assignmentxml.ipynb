{
 "cells": [
  {
   "cell_type": "code",
   "execution_count": 1,
   "metadata": {},
   "outputs": [],
   "source": [
    "import xml.etree.ElementTree as ET"
   ]
  },
  {
   "cell_type": "code",
   "execution_count": 2,
   "metadata": {},
   "outputs": [],
   "source": [
    "tree = ET.parse('rssfeed.xml')\n",
    "root = tree.getroot()"
   ]
  },
  {
   "cell_type": "code",
   "execution_count": 3,
   "metadata": {},
   "outputs": [
    {
     "name": "stdout",
     "output_type": "stream",
     "text": [
      "<xml.etree.ElementTree.ElementTree object at 0x000002A75CEC4508>\n",
      "<Element 'rss' at 0x000002A75CEC6408>\n"
     ]
    }
   ],
   "source": [
    "print(tree)\n",
    "print(root)"
   ]
  },
  {
   "cell_type": "code",
   "execution_count": 4,
   "metadata": {},
   "outputs": [
    {
     "name": "stdout",
     "output_type": "stream",
     "text": [
      "<Element 'channel' at 0x000002A75CEC6458>\n"
     ]
    }
   ],
   "source": [
    "for node in tree.iterfind('channel'):\n",
    "    print(node)"
   ]
  },
  {
   "cell_type": "code",
   "execution_count": 5,
   "metadata": {},
   "outputs": [
    {
     "name": "stdout",
     "output_type": "stream",
     "text": [
      "Advertorial, Latest Advertorial News, Advertorial Features, Advertorial Analysis & Views | Hindustan Times\n"
     ]
    }
   ],
   "source": [
    "for item in tree.iterfind('channel'):\n",
    "    print(item.findtext('title'))"
   ]
  },
  {
   "cell_type": "code",
   "execution_count": 6,
   "metadata": {},
   "outputs": [
    {
     "name": "stdout",
     "output_type": "stream",
     "text": [
      "https://www.hindustantimes.com/advertorial\n"
     ]
    }
   ],
   "source": [
    "for item in tree.iterfind('channel'):\n",
    "    print(item.findtext('link'))"
   ]
  },
  {
   "cell_type": "code",
   "execution_count": 7,
   "metadata": {},
   "outputs": [
    {
     "name": "stdout",
     "output_type": "stream",
     "text": [
      "Get all the latest news, articles, views, photos galleries, videos and discussion topics relating to Advertorial.\n"
     ]
    }
   ],
   "source": [
    "for item in tree.iterfind('channel'):\n",
    "    print(item.findtext('description'))"
   ]
  },
  {
   "cell_type": "code",
   "execution_count": 8,
   "metadata": {},
   "outputs": [
    {
     "name": "stdout",
     "output_type": "stream",
     "text": [
      "advertorial\n"
     ]
    }
   ],
   "source": [
    "for item in tree.iterfind('channel'):\n",
    "    print(item.findtext('category'))"
   ]
  },
  {
   "cell_type": "code",
   "execution_count": 9,
   "metadata": {},
   "outputs": [],
   "source": [
    "title = []\n",
    "link = []\n",
    "description = []\n",
    "category = []\n",
    "ttl = []\n",
    "lastBuildDate = []\n",
    "copyright = []\n",
    "language = []\n",
    "doc =[]"
   ]
  },
  {
   "cell_type": "code",
   "execution_count": 10,
   "metadata": {},
   "outputs": [],
   "source": [
    "for item in tree.iterfind('channel'):\n",
    "    title.append(item.findtext('title'))\n",
    "    link.append(item.findtext('link'))\n",
    "    description.append(item.findtext('description'))\n",
    "    category.append(item.findtext('category'))\n",
    "    ttl.append(item.findtext('ttl'))\n",
    "    lastBuildDate.append(item.findtext('lastBuildDate'))\n",
    "    copyright.append(item.findtext('copyright'))\n",
    "    language.append(item.findtext('language'))\n",
    "    doc.append(item.findtext('doc'))"
   ]
  },
  {
   "cell_type": "code",
   "execution_count": 11,
   "metadata": {},
   "outputs": [],
   "source": [
    "import pandas as pd\n",
    "df = pd.DataFrame({'title' : title,'link' : link,'Description' : description,\"category\" : category,'ttl' : ttl,\n",
    "                  'lastBuildDate' : lastBuildDate,'copyright' : copyright,'language' : language,'doc' : doc})\n"
   ]
  },
  {
   "cell_type": "code",
   "execution_count": 12,
   "metadata": {},
   "outputs": [
    {
     "data": {
      "text/html": [
       "<div>\n",
       "<style scoped>\n",
       "    .dataframe tbody tr th:only-of-type {\n",
       "        vertical-align: middle;\n",
       "    }\n",
       "\n",
       "    .dataframe tbody tr th {\n",
       "        vertical-align: top;\n",
       "    }\n",
       "\n",
       "    .dataframe thead th {\n",
       "        text-align: right;\n",
       "    }\n",
       "</style>\n",
       "<table border=\"1\" class=\"dataframe\">\n",
       "  <thead>\n",
       "    <tr style=\"text-align: right;\">\n",
       "      <th></th>\n",
       "      <th>title</th>\n",
       "      <th>link</th>\n",
       "      <th>Description</th>\n",
       "      <th>category</th>\n",
       "      <th>ttl</th>\n",
       "      <th>lastBuildDate</th>\n",
       "      <th>copyright</th>\n",
       "      <th>language</th>\n",
       "      <th>doc</th>\n",
       "    </tr>\n",
       "  </thead>\n",
       "  <tbody>\n",
       "    <tr>\n",
       "      <td>0</td>\n",
       "      <td>Advertorial, Latest Advertorial News, Advertor...</td>\n",
       "      <td>https://www.hindustantimes.com/advertorial</td>\n",
       "      <td>Get all the latest news, articles, views, phot...</td>\n",
       "      <td>advertorial</td>\n",
       "      <td>60</td>\n",
       "      <td>2021-07-27T22:14:08+05:30</td>\n",
       "      <td>Copyright (C) 2019 HT Media Limited. All Right...</td>\n",
       "      <td>en-US</td>\n",
       "      <td>None</td>\n",
       "    </tr>\n",
       "  </tbody>\n",
       "</table>\n",
       "</div>"
      ],
      "text/plain": [
       "                                               title  \\\n",
       "0  Advertorial, Latest Advertorial News, Advertor...   \n",
       "\n",
       "                                         link  \\\n",
       "0  https://www.hindustantimes.com/advertorial   \n",
       "\n",
       "                                         Description     category ttl  \\\n",
       "0  Get all the latest news, articles, views, phot...  advertorial  60   \n",
       "\n",
       "               lastBuildDate  \\\n",
       "0  2021-07-27T22:14:08+05:30   \n",
       "\n",
       "                                           copyright language   doc  \n",
       "0  Copyright (C) 2019 HT Media Limited. All Right...    en-US  None  "
      ]
     },
     "execution_count": 12,
     "metadata": {},
     "output_type": "execute_result"
    }
   ],
   "source": [
    "df"
   ]
  },
  {
   "cell_type": "code",
   "execution_count": 13,
   "metadata": {},
   "outputs": [
    {
     "name": "stdout",
     "output_type": "stream",
     "text": [
      "<class 'pandas.core.frame.DataFrame'>\n",
      "RangeIndex: 1 entries, 0 to 0\n",
      "Data columns (total 9 columns):\n",
      "title            1 non-null object\n",
      "link             1 non-null object\n",
      "Description      1 non-null object\n",
      "category         1 non-null object\n",
      "ttl              1 non-null object\n",
      "lastBuildDate    1 non-null object\n",
      "copyright        1 non-null object\n",
      "language         1 non-null object\n",
      "doc              0 non-null object\n",
      "dtypes: object(9)\n",
      "memory usage: 200.0+ bytes\n"
     ]
    }
   ],
   "source": [
    "df.info()"
   ]
  },
  {
   "cell_type": "code",
   "execution_count": 14,
   "metadata": {},
   "outputs": [
    {
     "data": {
      "text/plain": [
       "(1, 9)"
      ]
     },
     "execution_count": 14,
     "metadata": {},
     "output_type": "execute_result"
    }
   ],
   "source": [
    "df.shape"
   ]
  },
  {
   "cell_type": "code",
   "execution_count": null,
   "metadata": {},
   "outputs": [],
   "source": []
  },
  {
   "cell_type": "code",
   "execution_count": null,
   "metadata": {},
   "outputs": [],
   "source": []
  }
 ],
 "metadata": {
  "kernelspec": {
   "display_name": "Python 3",
   "language": "python",
   "name": "python3"
  },
  "language_info": {
   "codemirror_mode": {
    "name": "ipython",
    "version": 3
   },
   "file_extension": ".py",
   "mimetype": "text/x-python",
   "name": "python",
   "nbconvert_exporter": "python",
   "pygments_lexer": "ipython3",
   "version": "3.7.4"
  }
 },
 "nbformat": 4,
 "nbformat_minor": 4
}
